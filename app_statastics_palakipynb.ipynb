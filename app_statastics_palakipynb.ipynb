{
  "nbformat": 4,
  "nbformat_minor": 0,
  "metadata": {
    "colab": {
      "provenance": []
    },
    "kernelspec": {
      "name": "python3",
      "display_name": "Python 3"
    },
    "language_info": {
      "name": "python"
    }
  },
  "cells": [
    {
      "cell_type": "code",
      "execution_count": null,
      "metadata": {
        "id": "BySjRfnyUtSm",
        "colab": {
          "base_uri": "https://localhost:8080/"
        },
        "outputId": "acafa67a-5963-4a44-b314-ac9b26c3bc82"
      },
      "outputs": [
        {
          "output_type": "stream",
          "name": "stdout",
          "text": [
            "0    P\n",
            "1    A\n",
            "2    N\n",
            "3    D\n",
            "4    A\n",
            "5    S\n",
            "dtype: object\n"
          ]
        }
      ],
      "source": [
        " import pandas as pd\n",
        "import numpy as np\n",
        "info = np.array(['P','A','N','D','A','S'])\n",
        "a= pd.Series(info)\n",
        "print(a\n",
        "      )\n"
      ]
    },
    {
      "cell_type": "code",
      "source": [],
      "metadata": {
        "id": "aBfjlttOxRPu"
      },
      "execution_count": null,
      "outputs": []
    },
    {
      "cell_type": "code",
      "source": [
        "import pandas as pd\n",
        "# a list of strings\n",
        "x=['python','Pandas']\n",
        "#Calling DataFrame constructor on list\n",
        "df= pd.DataFrame(x)\n",
        "print(df)"
      ],
      "metadata": {
        "colab": {
          "base_uri": "https://localhost:8080/"
        },
        "id": "W13YoBqja53k",
        "outputId": "9e500c8e-2742-417d-e160-43271c0a9b7b"
      },
      "execution_count": null,
      "outputs": [
        {
          "output_type": "stream",
          "name": "stdout",
          "text": [
            "        0\n",
            "0  python\n",
            "1  Pandas\n"
          ]
        }
      ]
    },
    {
      "cell_type": "code",
      "source": [
        "import pandas as pd\n",
        "import matplotlib.pyplot as plt\n",
        "emp =['Aman','Gagan','Rahul','Parul','william']\n",
        "id= [543,102,321,109,104]\n",
        "emp_series =pd.Series(emp)\n",
        "id_series = pd.Series(id)\n",
        "frame = {'Emp': emp_series,'ID': id_series}\n",
        "result =pd.DataFrame(frame)\n",
        "print(result)"
      ],
      "metadata": {
        "id": "wU29ZbnOa2Z5",
        "colab": {
          "base_uri": "https://localhost:8080/"
        },
        "outputId": "8e5baa31-b6e9-4192-b412-c1821e380385"
      },
      "execution_count": null,
      "outputs": [
        {
          "output_type": "stream",
          "name": "stdout",
          "text": [
            "       Emp   ID\n",
            "0     Aman  543\n",
            "1    Gagan  102\n",
            "2    Rahul  321\n",
            "3    Parul  109\n",
            "4  william  104\n"
          ]
        }
      ]
    },
    {
      "cell_type": "code",
      "source": [
        "# importing the pandas library\n",
        "import pandas as pd\n",
        "df = pd.DataFrame()\n",
        "print(df)"
      ],
      "metadata": {
        "colab": {
          "base_uri": "https://localhost:8080/"
        },
        "id": "7LjSUQXNhqLy",
        "outputId": "34dcb3a3-8ed7-4a55-8ace-e9bb0d87d313"
      },
      "execution_count": null,
      "outputs": [
        {
          "output_type": "stream",
          "name": "stdout",
          "text": [
            "Empty DataFrame\n",
            "Columns: []\n",
            "Index: []\n"
          ]
        }
      ]
    },
    {
      "cell_type": "code",
      "source": [
        "#importing thr pandas library\n",
        "import pandas as pd\n",
        "# a list of strings\n",
        "x =['Python','Pandas']\n",
        "# Calling DataFrame constructor on list\n",
        "df = pd.DataFrame(x)\n",
        "print(df)"
      ],
      "metadata": {
        "colab": {
          "base_uri": "https://localhost:8080/"
        },
        "id": "vheKSvR9iDJe",
        "outputId": "7e16cd51-42dd-4fb4-d66b-81479824f650"
      },
      "execution_count": null,
      "outputs": [
        {
          "output_type": "stream",
          "name": "stdout",
          "text": [
            "        0\n",
            "0  Python\n",
            "1  Pandas\n"
          ]
        }
      ]
    },
    {
      "cell_type": "code",
      "source": [
        "import pandas as pd\n",
        "import numpy as np\n",
        "a =pd.Series(['Java','c','C++','np.nan'])\n",
        "a.map({'Java':'Core'})\n"
      ],
      "metadata": {
        "colab": {
          "base_uri": "https://localhost:8080/"
        },
        "id": "SygKwlVni46R",
        "outputId": "de552ca5-54de-474c-a3fc-dddcf2da7809"
      },
      "execution_count": null,
      "outputs": [
        {
          "output_type": "execute_result",
          "data": {
            "text/plain": [
              "0    Core\n",
              "1     NaN\n",
              "2     NaN\n",
              "3     NaN\n",
              "dtype: object"
            ]
          },
          "metadata": {},
          "execution_count": 15
        }
      ]
    },
    {
      "cell_type": "code",
      "source": [
        "# import the \"array\" for demonstarating array operations\n",
        "import array\n",
        "#initializing an array with array values and signed integers\n",
        "arr = array.array('l',[2,4,6,8,10,12])\n",
        "#print the original array\n",
        "print (\"New created array:\",end=\"\")\n",
        "for l in range (0,5):\n",
        "  print(arr[l],end=\" \")\n",
        "  print (\"\\r\")"
      ],
      "metadata": {
        "colab": {
          "base_uri": "https://localhost:8080/"
        },
        "id": "NQ_ik6YBxSua",
        "outputId": "4bfd86d3-7de7-4559-87a6-87d764cb13a8"
      },
      "execution_count": 10,
      "outputs": [
        {
          "output_type": "stream",
          "name": "stdout",
          "text": [
            "New created array:2 \r\n",
            "4 \r\n",
            "6 \r\n",
            "8 \r\n",
            "10 \r\n"
          ]
        }
      ]
    },
    {
      "cell_type": "code",
      "source": [
        "#importing pandas as pd\n",
        "import pandas as pd\n",
        "# dictonary of lists\n",
        "dict ={'name':[\"Parul\",\"Willian\",\"Taniya\",\"Phill\",\"Parker\"],'age':[\"28\",\"23\",\"31\",\"43\",\"25\"]}\n",
        "\n",
        "df = pd.DataFrame(dict,index =[True,True,False,True,False])\n",
        "print(df)\n",
        "print(\"\\n accessing the name and age only true value :\")\n",
        "print(df.loc[True])\n",
        "print(\"\\n accessing the name and age only false value:\")\n",
        "print(df.loc[False])"
      ],
      "metadata": {
        "colab": {
          "base_uri": "https://localhost:8080/"
        },
        "id": "kpw2yDaD1YJS",
        "outputId": "fe8a1b60-6b82-4de2-b12a-e9b0c5df6c96"
      },
      "execution_count": 18,
      "outputs": [
        {
          "output_type": "stream",
          "name": "stdout",
          "text": [
            "          name age\n",
            "True     Parul  28\n",
            "True   Willian  23\n",
            "False   Taniya  31\n",
            "True     Phill  43\n",
            "False   Parker  25\n",
            "\n",
            " accessing the name and age only true value :\n",
            "         name age\n",
            "True    Parul  28\n",
            "True  Willian  23\n",
            "True    Phill  43\n",
            "\n",
            " accessing the name and age only false value:\n",
            "         name age\n",
            "False  Taniya  31\n",
            "False  Parker  25\n"
          ]
        }
      ]
    },
    {
      "cell_type": "code",
      "source": [
        "import numpy as np\n",
        "arr = np.arange(20)\n",
        "print(\"The Original array is:\\n,arr\")\n",
        "# shape array with 2 rows and 8 columns\n",
        "arr =np.arange(20).reshape(2,10)\n",
        "print(\"\\nreshapedarray:\\n\",arr)\n",
        "#shape array with 2 rows and 10 columns\n",
        "arr = np.arange(20).reshape(2,10)\n",
        "print(\"\\nreshaped array:\\n\",arr)\n"
      ],
      "metadata": {
        "colab": {
          "base_uri": "https://localhost:8080/"
        },
        "id": "N_l5-d6a9Tge",
        "outputId": "cb066af1-c05c-4f62-d225-860505df31df"
      },
      "execution_count": 21,
      "outputs": [
        {
          "output_type": "stream",
          "name": "stdout",
          "text": [
            "The Original array is:\n",
            ",arr\n",
            "\n",
            "reshapedarray:\n",
            " [[ 0  1  2  3  4  5  6  7  8  9]\n",
            " [10 11 12 13 14 15 16 17 18 19]]\n",
            "\n",
            "reshaped array:\n",
            " [[ 0  1  2  3  4  5  6  7  8  9]\n",
            " [10 11 12 13 14 15 16 17 18 19]]\n"
          ]
        }
      ]
    },
    {
      "cell_type": "code",
      "source": [],
      "metadata": {
        "id": "iSPuIY6R_yLq"
      },
      "execution_count": null,
      "outputs": []
    }
  ]
}