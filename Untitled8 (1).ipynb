{
  "nbformat": 4,
  "nbformat_minor": 0,
  "metadata": {
    "colab": {
      "provenance": []
    },
    "kernelspec": {
      "name": "python3",
      "display_name": "Python 3"
    },
    "language_info": {
      "name": "python"
    }
  },
  "cells": [
    {
      "cell_type": "code",
      "execution_count": null,
      "metadata": {
        "id": "BySjRfnyUtSm",
        "colab": {
          "base_uri": "https://localhost:8080/"
        },
        "outputId": "acafa67a-5963-4a44-b314-ac9b26c3bc82"
      },
      "outputs": [
        {
          "output_type": "stream",
          "name": "stdout",
          "text": [
            "0    P\n",
            "1    A\n",
            "2    N\n",
            "3    D\n",
            "4    A\n",
            "5    S\n",
            "dtype: object\n"
          ]
        }
      ],
      "source": [
        "import pandas as pd\n",
        "import numpy as np\n",
        "info = np.array(['P','A','N','D','A','S'])\n",
        "a= pd.Series(info)\n",
        "print(a\n",
        "      )\n"
      ]
    },
    {
      "cell_type": "code",
      "source": [
        "import pandas as pd\n",
        "# a list of strings\n",
        "x=['python','Pandas']\n",
        "#Calling DataFrame constructor on list\n",
        "df= pd.DataFrame(x)\n",
        "print(df)"
      ],
      "metadata": {
        "colab": {
          "base_uri": "https://localhost:8080/"
        },
        "id": "W13YoBqja53k",
        "outputId": "9e500c8e-2742-417d-e160-43271c0a9b7b"
      },
      "execution_count": null,
      "outputs": [
        {
          "output_type": "stream",
          "name": "stdout",
          "text": [
            "        0\n",
            "0  python\n",
            "1  Pandas\n"
          ]
        }
      ]
    },
    {
      "cell_type": "code",
      "source": [
        "import pandas as pd\n",
        "import matplotlib.pyplot as plt\n",
        "emp =['Aman','Gagan','Rahul','Parul','william']\n",
        "id= [543,102,321,109,104]\n",
        "emp_series =pd.Series(emp)\n",
        "id_series = pd.Series(id)\n",
        "frame = {'Emp': emp_series,'ID': id_series}\n",
        "result =pd.DataFrame(frame)\n",
        "print(result)"
      ],
      "metadata": {
        "id": "wU29ZbnOa2Z5",
        "colab": {
          "base_uri": "https://localhost:8080/"
        },
        "outputId": "8e5baa31-b6e9-4192-b412-c1821e380385"
      },
      "execution_count": 6,
      "outputs": [
        {
          "output_type": "stream",
          "name": "stdout",
          "text": [
            "       Emp   ID\n",
            "0     Aman  543\n",
            "1    Gagan  102\n",
            "2    Rahul  321\n",
            "3    Parul  109\n",
            "4  william  104\n"
          ]
        }
      ]
    },
    {
      "cell_type": "code",
      "source": [
        "# importing the pandas library\n",
        "import pandas as pd\n",
        "df = pd.DataFrame()\n",
        "print(df)"
      ],
      "metadata": {
        "colab": {
          "base_uri": "https://localhost:8080/"
        },
        "id": "7LjSUQXNhqLy",
        "outputId": "34dcb3a3-8ed7-4a55-8ace-e9bb0d87d313"
      },
      "execution_count": 9,
      "outputs": [
        {
          "output_type": "stream",
          "name": "stdout",
          "text": [
            "Empty DataFrame\n",
            "Columns: []\n",
            "Index: []\n"
          ]
        }
      ]
    },
    {
      "cell_type": "code",
      "source": [
        "#importing thr pandas library\n",
        "import pandas as pd\n",
        "# a list of strings\n",
        "x =['Python','Pandas']\n",
        "# Calling DataFrame constructor on list\n",
        "df = pd.DataFrame(x)\n",
        "print(df)"
      ],
      "metadata": {
        "colab": {
          "base_uri": "https://localhost:8080/"
        },
        "id": "vheKSvR9iDJe",
        "outputId": "7e16cd51-42dd-4fb4-d66b-81479824f650"
      },
      "execution_count": 12,
      "outputs": [
        {
          "output_type": "stream",
          "name": "stdout",
          "text": [
            "        0\n",
            "0  Python\n",
            "1  Pandas\n"
          ]
        }
      ]
    },
    {
      "cell_type": "code",
      "source": [
        "import pandas as pd\n",
        "import numpy as np\n",
        "a =pd.Series(['Java','c','C++','np.nan'])\n",
        "a.map({'Java':'Core'})\n"
      ],
      "metadata": {
        "colab": {
          "base_uri": "https://localhost:8080/"
        },
        "id": "SygKwlVni46R",
        "outputId": "de552ca5-54de-474c-a3fc-dddcf2da7809"
      },
      "execution_count": 15,
      "outputs": [
        {
          "output_type": "execute_result",
          "data": {
            "text/plain": [
              "0    Core\n",
              "1     NaN\n",
              "2     NaN\n",
              "3     NaN\n",
              "dtype: object"
            ]
          },
          "metadata": {},
          "execution_count": 15
        }
      ]
    }
  ]
}